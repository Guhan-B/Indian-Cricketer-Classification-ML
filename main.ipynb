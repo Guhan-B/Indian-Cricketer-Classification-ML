{
 "cells": [
  {
   "cell_type": "code",
   "execution_count": 64,
   "metadata": {},
   "outputs": [],
   "source": [
    "import numpy as np\n",
    "import pandas as pd\n",
    "import cv2\n",
    "import matplotlib.pyplot as plt\n",
    "import os\n",
    "import pywt\n",
    "import seaborn as sns\n",
    "import joblib\n",
    "import json\n",
    "from sklearn.svm import SVC\n",
    "from sklearn.preprocessing import StandardScaler, MinMaxScaler\n",
    "from sklearn.model_selection import train_test_split, GridSearchCV\n",
    "from sklearn.pipeline import Pipeline, make_pipeline\n",
    "from sklearn.metrics import classification_report, confusion_matrix\n",
    "from sklearn.ensemble import RandomForestClassifier\n",
    "from sklearn.linear_model import LogisticRegression\n",
    "\n",
    "%matplotlib inline"
   ]
  },
  {
   "cell_type": "code",
   "execution_count": 2,
   "metadata": {},
   "outputs": [],
   "source": [
    "path_to_cropped = \"./dataset/cropped/\"\n",
    "data = {}\n",
    "for folder in os.scandir(path_to_cropped):\n",
    "    name = folder.path.split('/')[3]\n",
    "    data[name] = []\n",
    "    \n",
    "    for image in os.scandir(folder.path + '/'):\n",
    "        data[name].append(image.path)\n",
    "\n",
    "name_labels = {}\n",
    "count = 0\n",
    "\n",
    "for name in data.keys():\n",
    "    name_labels[name] = count\n",
    "    count += 1\n"
   ]
  },
  {
   "cell_type": "code",
   "execution_count": 3,
   "metadata": {},
   "outputs": [],
   "source": [
    "def transform(img, mode='haar', level=1):\n",
    "    imArray = img\n",
    "    imArray = cv2.cvtColor(imArray,cv2.COLOR_RGB2GRAY)\n",
    "    imArray =  np.float32(imArray)   \n",
    "    imArray /= 255;\n",
    "    coeffs=pywt.wavedec2(imArray, mode, level=level)\n",
    "    coeffs_H=list(coeffs)  \n",
    "    coeffs_H[0] *= 0;  \n",
    "    imArray_H=pywt.waverec2(coeffs_H, mode);\n",
    "    imArray_H *= 255;\n",
    "    imArray_H = np.uint8(imArray_H)\n",
    "    return imArray_H"
   ]
  },
  {
   "cell_type": "code",
   "execution_count": 4,
   "metadata": {},
   "outputs": [
    {
     "data": {
      "text/plain": [
       "<matplotlib.image.AxesImage at 0x1d874bcf220>"
      ]
     },
     "execution_count": 4,
     "metadata": {},
     "output_type": "execute_result"
    },
    {
     "data": {
      "image/png": "[encoded data removed]",
      "text/plain": [
       "<Figure size 432x288 with 1 Axes>"
      ]
     },
     "metadata": {
      "needs_background": "light"
     },
     "output_type": "display_data"
    }
   ],
   "source": [
    "image = cv2.imread(\"./dataset/cropped/Bhuvneshwar Kumar/Bhuvneshwar Kumar_1.png\")\n",
    "plt.imshow(cv2.resize(image, (60, 60)))"
   ]
  },
  {
   "cell_type": "code",
   "execution_count": 26,
   "metadata": {},
   "outputs": [
    {
     "data": {
      "text/plain": [
       "<matplotlib.image.AxesImage at 0x1d80367b790>"
      ]
     },
     "execution_count": 26,
     "metadata": {},
     "output_type": "execute_result"
    },
    {
     "data": {
      "image/png": "[encoded data removed]",
      "text/plain": [
       "<Figure size 432x288 with 1 Axes>"
      ]
     },
     "metadata": {
      "needs_background": "light"
     },
     "output_type": "display_data"
    }
   ],
   "source": [
    "image_transform = transform(image)\n",
    "plt.imshow(cv2.resize(image_transform, (32, 32)), cmap='gray')"
   ]
  },
  {
   "cell_type": "code",
   "execution_count": 65,
   "metadata": {},
   "outputs": [
    {
     "data": {
      "text/plain": [
       "{'Bhuvneshwar Kumar': 0,\n",
       " 'Dinesh Karthik': 1,\n",
       " 'Hardik Pandya': 2,\n",
       " 'K L Rahul': 3,\n",
       " 'Kedar Jadhav': 4,\n",
       " 'M S Dhoni': 5,\n",
       " 'Rohit Sharma': 6,\n",
       " 'Shikhar Dhawan': 7,\n",
       " 'Virat Kohli': 8,\n",
       " 'Yuzvendra Chahal': 9}"
      ]
     },
     "execution_count": 65,
     "metadata": {},
     "output_type": "execute_result"
    }
   ],
   "source": [
    "name_labels"
   ]
  },
  {
   "cell_type": "code",
   "execution_count": 27,
   "metadata": {},
   "outputs": [],
   "source": [
    "X = []\n",
    "Y = []\n",
    "RESIZE_SIZE = 48\n",
    "\n",
    "for name in data.keys():\n",
    "    for image_path in data[name]:\n",
    "        image = cv2.imread(image_path)\n",
    "        scaled_image = cv2.resize(image, (RESIZE_SIZE, RESIZE_SIZE))\n",
    "        wavelet_image = transform(image, 'db1', 5)\n",
    "        scaled_wavelet_image = cv2.resize(wavelet_image, (RESIZE_SIZE, RESIZE_SIZE))\n",
    "        combined_image = np.vstack((scaled_image.reshape(RESIZE_SIZE*RESIZE_SIZE*3, 1), scaled_wavelet_image.reshape(RESIZE_SIZE*RESIZE_SIZE, 1)))\n",
    "        X.append(combined_image)\n",
    "        Y.append(name_labels[name])\n",
    "\n",
    "X = np.array(X).reshape(len(X), X[0].shape[0]).astype(float)\n",
    "Y = np.array(Y)"
   ]
  },
  {
   "cell_type": "code",
   "execution_count": 61,
   "metadata": {},
   "outputs": [],
   "source": [
    "X_train, X_test, Y_train, Y_test = train_test_split(X, Y, random_state=0)\n",
    "pipe = Pipeline([('scaler', StandardScaler()), ('svc', SVC(kernel='rbf', C=10))])"
   ]
  },
  {
   "cell_type": "code",
   "execution_count": 63,
   "metadata": {},
   "outputs": [
    {
     "name": "stdout",
     "output_type": "stream",
     "text": [
      "Score: 0.6440677966101694\n"
     ]
    },
    {
     "data": {
      "text/html": [
       "<div>\n",
       "<style scoped>\n",
       "    .dataframe tbody tr th:only-of-type {\n",
       "        vertical-align: middle;\n",
       "    }\n",
       "\n",
       "    .dataframe tbody tr th {\n",
       "        vertical-align: top;\n",
       "    }\n",
       "\n",
       "    .dataframe thead th {\n",
       "        text-align: right;\n",
       "    }\n",
       "</style>\n",
       "<table border=\"1\" class=\"dataframe\">\n",
       "  <thead>\n",
       "    <tr style=\"text-align: right;\">\n",
       "      <th></th>\n",
       "      <th>0</th>\n",
       "      <th>1</th>\n",
       "      <th>2</th>\n",
       "      <th>3</th>\n",
       "      <th>4</th>\n",
       "      <th>5</th>\n",
       "      <th>6</th>\n",
       "      <th>7</th>\n",
       "      <th>8</th>\n",
       "      <th>9</th>\n",
       "      <th>accuracy</th>\n",
       "      <th>macro avg</th>\n",
       "      <th>weighted avg</th>\n",
       "    </tr>\n",
       "  </thead>\n",
       "  <tbody>\n",
       "    <tr>\n",
       "      <th>precision</th>\n",
       "      <td>0.666667</td>\n",
       "      <td>1.000000</td>\n",
       "      <td>0.545455</td>\n",
       "      <td>0.647059</td>\n",
       "      <td>1.000000</td>\n",
       "      <td>0.571429</td>\n",
       "      <td>1.00</td>\n",
       "      <td>0.687500</td>\n",
       "      <td>0.666667</td>\n",
       "      <td>1.000000</td>\n",
       "      <td>0.644068</td>\n",
       "      <td>0.778478</td>\n",
       "      <td>0.726054</td>\n",
       "    </tr>\n",
       "    <tr>\n",
       "      <th>recall</th>\n",
       "      <td>0.444444</td>\n",
       "      <td>0.444444</td>\n",
       "      <td>0.960000</td>\n",
       "      <td>0.785714</td>\n",
       "      <td>0.375000</td>\n",
       "      <td>0.571429</td>\n",
       "      <td>0.25</td>\n",
       "      <td>0.733333</td>\n",
       "      <td>0.750000</td>\n",
       "      <td>0.142857</td>\n",
       "      <td>0.644068</td>\n",
       "      <td>0.545722</td>\n",
       "      <td>0.644068</td>\n",
       "    </tr>\n",
       "    <tr>\n",
       "      <th>f1-score</th>\n",
       "      <td>0.533333</td>\n",
       "      <td>0.615385</td>\n",
       "      <td>0.695652</td>\n",
       "      <td>0.709677</td>\n",
       "      <td>0.545455</td>\n",
       "      <td>0.571429</td>\n",
       "      <td>0.40</td>\n",
       "      <td>0.709677</td>\n",
       "      <td>0.705882</td>\n",
       "      <td>0.250000</td>\n",
       "      <td>0.644068</td>\n",
       "      <td>0.573649</td>\n",
       "      <td>0.617951</td>\n",
       "    </tr>\n",
       "    <tr>\n",
       "      <th>support</th>\n",
       "      <td>9.000000</td>\n",
       "      <td>9.000000</td>\n",
       "      <td>25.000000</td>\n",
       "      <td>14.000000</td>\n",
       "      <td>8.000000</td>\n",
       "      <td>7.000000</td>\n",
       "      <td>8.00</td>\n",
       "      <td>15.000000</td>\n",
       "      <td>16.000000</td>\n",
       "      <td>7.000000</td>\n",
       "      <td>0.644068</td>\n",
       "      <td>118.000000</td>\n",
       "      <td>118.000000</td>\n",
       "    </tr>\n",
       "  </tbody>\n",
       "</table>\n",
       "</div>"
      ],
      "text/plain": [
       "                  0         1          2          3         4         5     6  \\\n",
       "precision  0.666667  1.000000   0.545455   0.647059  1.000000  0.571429  1.00   \n",
       "recall     0.444444  0.444444   0.960000   0.785714  0.375000  0.571429  0.25   \n",
       "f1-score   0.533333  0.615385   0.695652   0.709677  0.545455  0.571429  0.40   \n",
       "support    9.000000  9.000000  25.000000  14.000000  8.000000  7.000000  8.00   \n",
       "\n",
       "                   7          8         9  accuracy   macro avg  weighted avg  \n",
       "precision   0.687500   0.666667  1.000000  0.644068    0.778478      0.726054  \n",
       "recall      0.733333   0.750000  0.142857  0.644068    0.545722      0.644068  \n",
       "f1-score    0.709677   0.705882  0.250000  0.644068    0.573649      0.617951  \n",
       "support    15.000000  16.000000  7.000000  0.644068  118.000000    118.000000  "
      ]
     },
     "execution_count": 63,
     "metadata": {},
     "output_type": "execute_result"
    }
   ],
   "source": [
    "pipe.fit(X_train, Y_train)\n",
    "print(\"Score:\", pipe.score(X_test, Y_test))\n",
    "report = classification_report(Y_test, pipe.predict(X_test), output_dict=True)\n",
    "pd.DataFrame(report)"
   ]
  },
  {
   "cell_type": "code",
   "execution_count": 30,
   "metadata": {},
   "outputs": [],
   "source": [
    "models = {\n",
    "    'svm': {\n",
    "        'model': SVC(gamma='auto',probability=True),\n",
    "        'params' : {\n",
    "            'svc__C': [1, 5, 10],\n",
    "            'svc__kernel': ['rbf', 'linear']\n",
    "        }  \n",
    "    },\n",
    "    'random_forest': {\n",
    "        'model': RandomForestClassifier(),\n",
    "        'params' : {\n",
    "            'randomforestclassifier__n_estimators': [1, 5, 10]\n",
    "        }\n",
    "    },\n",
    "    'logistic_regression' : {\n",
    "        'model': LogisticRegression(solver='liblinear',multi_class='auto'),\n",
    "        'params': {\n",
    "            'logisticregression__C': [1, 5, 10]\n",
    "        }\n",
    "    }\n",
    "}"
   ]
  },
  {
   "cell_type": "code",
   "execution_count": 42,
   "metadata": {},
   "outputs": [
    {
     "name": "stdout",
     "output_type": "stream",
     "text": [
      "svm\n",
      "random_forest\n",
      "logistic_regression\n"
     ]
    }
   ],
   "source": [
    "scores = []\n",
    "best_estimators = {}\n",
    "\n",
    "for name, config in models.items():\n",
    "    print(name)\n",
    "    pipe = make_pipeline(StandardScaler(), config['model'])\n",
    "    classifier = GridSearchCV(pipe, config['params'], cv=5, return_train_score=False)\n",
    "    classifier.fit(X_train, Y_train)\n",
    "    scores.append({\n",
    "        'model' : name,\n",
    "        'score' : classifier.best_score_,\n",
    "        'params': classifier.best_params_\n",
    "    })\n",
    "    best_estimators[name] = classifier.best_estimator_\n",
    "\n",
    "result = pd.DataFrame(scores, columns=['model', 'score', 'params'])"
   ]
  },
  {
   "cell_type": "code",
   "execution_count": 43,
   "metadata": {},
   "outputs": [
    {
     "data": {
      "text/html": [
       "<div>\n",
       "<style scoped>\n",
       "    .dataframe tbody tr th:only-of-type {\n",
       "        vertical-align: middle;\n",
       "    }\n",
       "\n",
       "    .dataframe tbody tr th {\n",
       "        vertical-align: top;\n",
       "    }\n",
       "\n",
       "    .dataframe thead th {\n",
       "        text-align: right;\n",
       "    }\n",
       "</style>\n",
       "<table border=\"1\" class=\"dataframe\">\n",
       "  <thead>\n",
       "    <tr style=\"text-align: right;\">\n",
       "      <th></th>\n",
       "      <th>model</th>\n",
       "      <th>score</th>\n",
       "      <th>params</th>\n",
       "    </tr>\n",
       "  </thead>\n",
       "  <tbody>\n",
       "    <tr>\n",
       "      <th>0</th>\n",
       "      <td>svm</td>\n",
       "      <td>0.666720</td>\n",
       "      <td>{'svc__C': 1, 'svc__kernel': 'linear'}</td>\n",
       "    </tr>\n",
       "    <tr>\n",
       "      <th>1</th>\n",
       "      <td>random_forest</td>\n",
       "      <td>0.375694</td>\n",
       "      <td>{'randomforestclassifier__n_estimators': 10}</td>\n",
       "    </tr>\n",
       "    <tr>\n",
       "      <th>2</th>\n",
       "      <td>logistic_regression</td>\n",
       "      <td>0.669457</td>\n",
       "      <td>{'logisticregression__C': 1}</td>\n",
       "    </tr>\n",
       "  </tbody>\n",
       "</table>\n",
       "</div>"
      ],
      "text/plain": [
       "                 model     score                                        params\n",
       "0                  svm  0.666720        {'svc__C': 1, 'svc__kernel': 'linear'}\n",
       "1        random_forest  0.375694  {'randomforestclassifier__n_estimators': 10}\n",
       "2  logistic_regression  0.669457                  {'logisticregression__C': 1}"
      ]
     },
     "execution_count": 43,
     "metadata": {},
     "output_type": "execute_result"
    }
   ],
   "source": [
    "result"
   ]
  },
  {
   "cell_type": "code",
   "execution_count": 44,
   "metadata": {},
   "outputs": [
    {
     "data": {
      "text/plain": [
       "0.7542372881355932"
      ]
     },
     "execution_count": 44,
     "metadata": {},
     "output_type": "execute_result"
    }
   ],
   "source": [
    "best_estimators['svm'].score(X_test, Y_test)"
   ]
  },
  {
   "cell_type": "code",
   "execution_count": 45,
   "metadata": {},
   "outputs": [
    {
     "data": {
      "text/plain": [
       "0.7966101694915254"
      ]
     },
     "execution_count": 45,
     "metadata": {},
     "output_type": "execute_result"
    }
   ],
   "source": [
    "best_estimators['logistic_regression'].score(X_test, Y_test)"
   ]
  },
  {
   "cell_type": "code",
   "execution_count": 46,
   "metadata": {},
   "outputs": [
    {
     "data": {
      "text/plain": [
       "0.4491525423728814"
      ]
     },
     "execution_count": 46,
     "metadata": {},
     "output_type": "execute_result"
    }
   ],
   "source": [
    "best_estimators['random_forest'].score(X_test, Y_test)"
   ]
  },
  {
   "cell_type": "code",
   "execution_count": 56,
   "metadata": {},
   "outputs": [
    {
     "data": {
      "text/plain": [
       "<AxesSubplot:>"
      ]
     },
     "execution_count": 56,
     "metadata": {},
     "output_type": "execute_result"
    },
    {
     "data": {
      "image/png": "[encoded data removed]",
      "text/plain": [
       "<Figure size 576x432 with 2 Axes>"
      ]
     },
     "metadata": {
      "needs_background": "light"
     },
     "output_type": "display_data"
    }
   ],
   "source": [
    "model = best_estimators['svm']\n",
    "\n",
    "matrix = confusion_matrix(Y_test, model.predict(X_test))\n",
    "plt.figure(figsize=(8,6))\n",
    "plt.xlabel(\"PREDICTED\")\n",
    "plt.ylabel(\"TRUTH\")\n",
    "sns.heatmap(matrix, annot=True)"
   ]
  },
  {
   "cell_type": "code",
   "execution_count": 59,
   "metadata": {},
   "outputs": [
    {
     "data": {
      "text/plain": [
       "['model.pkl']"
      ]
     },
     "execution_count": 59,
     "metadata": {},
     "output_type": "execute_result"
    }
   ],
   "source": [
    "joblib.dump(model, \"model.pkl\")"
   ]
  },
  {
   "cell_type": "code",
   "execution_count": 68,
   "metadata": {},
   "outputs": [],
   "source": [
    "with open(\"classes.json\", \"w\") as f:\n",
    "    f.write(json.dumps(name_labels))"
   ]
  },
  {
   "cell_type": "code",
   "execution_count": null,
   "metadata": {},
   "outputs": [],
   "source": []
  }
 ],
 "metadata": {
  "interpreter": {
   "hash": "64f5e4e24ffb33fc7ea1cbb103df6a932b484f6a7eb142e91069bbb83088c7a6"
  },
  "kernelspec": {
   "display_name": "Python 3.8.12 64-bit ('ml-dl': conda)",
   "language": "python",
   "name": "python3"
  },
  "language_info": {
   "codemirror_mode": {
    "name": "ipython",
    "version": 3
   },
   "file_extension": ".py",
   "mimetype": "text/x-python",
   "name": "python",
   "nbconvert_exporter": "python",
   "pygments_lexer": "ipython3",
   "version": "3.8.12"
  },
  "orig_nbformat": 4
 },
 "nbformat": 4,
 "nbformat_minor": 2
}
