{
 "cells": [
  {
   "cell_type": "code",
   "execution_count": 18,
   "metadata": {},
   "outputs": [],
   "source": [
    "import joblib\n",
    "import pywt\n",
    "import cv2\n",
    "import numpy as np\n",
    "import json"
   ]
  },
  {
   "cell_type": "code",
   "execution_count": 3,
   "metadata": {},
   "outputs": [],
   "source": [
    "def crop_image(path):\n",
    "    result = []\n",
    "    \n",
    "    image = cv2.imread(path)\n",
    "    image_gray = cv2.cvtColor(image, cv2.COLOR_BGR2GRAY)\n",
    "    \n",
    "    face_cascade = cv2.CascadeClassifier(\"./opencv/haarcascades/haarcascade_frontalface_default.xml\")\n",
    "    eye_cascade = cv2.CascadeClassifier(\"./opencv/haarcascades/haarcascade_eye.xml\")\n",
    "    \n",
    "    faces = face_cascade.detectMultiScale(image_gray, 1.3, 5)\n",
    "    \n",
    "    for (x, y, w, h) in  faces:\n",
    "        face_region = image[y : y+h, x : x+w]\n",
    "        face_region_gray = image_gray[y : y+h, x : x+w]\n",
    "        \n",
    "        eyes = eye_cascade.detectMultiScale(face_region_gray, 1.3, 5)\n",
    "        \n",
    "        if len(eyes) >= 2 :\n",
    "            result.append(face_region)\n",
    "\n",
    "    return result"
   ]
  },
  {
   "cell_type": "code",
   "execution_count": 9,
   "metadata": {},
   "outputs": [],
   "source": [
    "def transform(img, mode='haar', level=1):\n",
    "    imArray = img\n",
    "    imArray = cv2.cvtColor(imArray,cv2.COLOR_RGB2GRAY)\n",
    "    imArray =  np.float32(imArray)   \n",
    "    imArray /= 255;\n",
    "    coeffs=pywt.wavedec2(imArray, mode, level=level)\n",
    "    coeffs_H=list(coeffs)  \n",
    "    coeffs_H[0] *= 0;  \n",
    "    imArray_H=pywt.waverec2(coeffs_H, mode);\n",
    "    imArray_H *= 255;\n",
    "    imArray_H = np.uint8(imArray_H)\n",
    "    return imArray_H"
   ]
  },
  {
   "cell_type": "code",
   "execution_count": 33,
   "metadata": {},
   "outputs": [],
   "source": [
    "RESIZE_SIZE = 48\n",
    "\n",
    "def classifier(image_path, model, classes):\n",
    "    faces = crop_image(image_path)\n",
    "    \n",
    "    print(f\"Faces Detected: {len(faces)}\")\n",
    "    count = 1\n",
    "    \n",
    "    for face in faces:\n",
    "        scaled_image = cv2.resize(face, (RESIZE_SIZE, RESIZE_SIZE))\n",
    "        wavelet_image = transform(face, 'db1', 5)\n",
    "        scaled_wavelet_image = cv2.resize(wavelet_image, (RESIZE_SIZE, RESIZE_SIZE))\n",
    "        combined_image = np.vstack((\n",
    "                scaled_image.reshape(RESIZE_SIZE * RESIZE_SIZE * 3, 1), \n",
    "                scaled_wavelet_image.reshape(RESIZE_SIZE*RESIZE_SIZE, 1)\n",
    "        ))\n",
    "        \n",
    "        X = [combined_image]\n",
    "        X = np.array(X).reshape(len(X), X[0].shape[0]).astype(float)\n",
    "        \n",
    "        prediction = model.predict(X)[0]\n",
    "        \n",
    "        print(f\"Face {count}: {classes[prediction]}\")\n",
    "        \n",
    "        count += 1"
   ]
  },
  {
   "cell_type": "code",
   "execution_count": 22,
   "metadata": {},
   "outputs": [],
   "source": [
    "model = None\n",
    "name_label_dict = None\n",
    "\n",
    "with open(\"model.pkl\", \"rb\") as f:\n",
    "    model = joblib.load(f)\n",
    "    \n",
    "with open(\"classes.json\", \"r\") as f:\n",
    "    name_label_dict = json.load(f)\n",
    "    name_label_dict = { v : k for k, v in name_label_dict.items() }"
   ]
  },
  {
   "cell_type": "code",
   "execution_count": 23,
   "metadata": {},
   "outputs": [
    {
     "data": {
      "text/plain": [
       "{0: 'Bhuvneshwar Kumar',\n",
       " 1: 'Dinesh Karthik',\n",
       " 2: 'Hardik Pandya',\n",
       " 3: 'K L Rahul',\n",
       " 4: 'Kedar Jadhav',\n",
       " 5: 'M S Dhoni',\n",
       " 6: 'Rohit Sharma',\n",
       " 7: 'Shikhar Dhawan',\n",
       " 8: 'Virat Kohli',\n",
       " 9: 'Yuzvendra Chahal'}"
      ]
     },
     "execution_count": 23,
     "metadata": {},
     "output_type": "execute_result"
    }
   ],
   "source": [
    "name_label_dict"
   ]
  },
  {
   "cell_type": "code",
   "execution_count": 36,
   "metadata": {},
   "outputs": [
    {
     "name": "stdout",
     "output_type": "stream",
     "text": [
      "Faces Detected: 1\n",
      "Face 1: M S Dhoni\n"
     ]
    }
   ],
   "source": [
    "classifier(\"./test_images/6.jpeg\", model, name_label_dict)"
   ]
  },
  {
   "cell_type": "code",
   "execution_count": null,
   "metadata": {},
   "outputs": [],
   "source": []
  }
 ],
 "metadata": {
  "interpreter": {
   "hash": "64f5e4e24ffb33fc7ea1cbb103df6a932b484f6a7eb142e91069bbb83088c7a6"
  },
  "kernelspec": {
   "display_name": "Python 3.8.12 64-bit ('ml-dl': conda)",
   "language": "python",
   "name": "python3"
  },
  "language_info": {
   "codemirror_mode": {
    "name": "ipython",
    "version": 3
   },
   "file_extension": ".py",
   "mimetype": "text/x-python",
   "name": "python",
   "nbconvert_exporter": "python",
   "pygments_lexer": "ipython3",
   "version": "3.8.12"
  },
  "orig_nbformat": 4
 },
 "nbformat": 4,
 "nbformat_minor": 2
}
